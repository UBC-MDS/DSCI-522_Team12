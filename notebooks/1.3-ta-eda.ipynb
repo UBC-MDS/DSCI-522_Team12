{
 "cells": [
  {
   "cell_type": "code",
   "execution_count": null,
   "metadata": {},
   "outputs": [],
   "source": [
    "import os\n",
    "import sys\n",
    "\n",
    "import pandas as pd\n",
    "import altair as alt\n",
    "\n",
    "cur_dir = os.getcwd()\n",
    "SRC_PATH = cur_dir[\n",
    "    : cur_dir.index(\"customer_complaint_analyzer\") + len(\"customer_complaint_analyzer\")\n",
    "]\n",
    "if SRC_PATH not in sys.path:\n",
    "    sys.path.append(SRC_PATH)\n",
    "\n",
    "from src.data.load_preprocess_data import load_raw_complaints_data\n",
    "\n",
    "alt.data_transformers.enable('data_server')\n",
    "alt.renderers.enable('mimetype')"
   ]
  },
  {
   "cell_type": "code",
   "execution_count": null,
   "metadata": {},
   "outputs": [],
   "source": [
    "data_path = os.path.join(os.pardir, \"data\", \"raw\", \"complaints.csv\")\n",
    "\n",
    "complaints_df = load_raw_complaints_data(data_path, num_rows=1_000_000)"
   ]
  },
  {
   "cell_type": "code",
   "execution_count": null,
   "metadata": {},
   "outputs": [],
   "source": [
    "complaints_df.sort_values(by='date_received', ascending = False, inplace=True)\n",
    "\n",
    "# complaints_df.company_public_response.fillna('None Recorded', inplace=True)\n",
    "# complaints_df.sub_issue.fillna('None', inplace=True)\n",
    "# complaints_df.consumer_complaint_narrative.fillna(\"None\", inplace=True)"
   ]
  },
  {
   "cell_type": "code",
   "execution_count": null,
   "metadata": {},
   "outputs": [],
   "source": [
    "complaints_df.head()"
   ]
  },
  {
   "cell_type": "code",
   "execution_count": null,
   "metadata": {},
   "outputs": [],
   "source": [
    "complaints_df.info()"
   ]
  },
  {
   "cell_type": "code",
   "execution_count": null,
   "metadata": {},
   "outputs": [],
   "source": [
    "complaints_df.describe()"
   ]
  },
  {
   "cell_type": "markdown",
   "metadata": {},
   "source": [
    "# Missing Values"
   ]
  },
  {
   "cell_type": "code",
   "execution_count": null,
   "metadata": {},
   "outputs": [],
   "source": [
    "complaints_df[:10].style.highlight_null()"
   ]
  },
  {
   "cell_type": "code",
   "execution_count": null,
   "metadata": {},
   "outputs": [],
   "source": [
    "num_complaints = 2000\n",
    "na_val_df = complaints_df.head(num_complaints).isna().reset_index().melt(\n",
    "        id_vars='index'\n",
    "    )\n",
    "last_date = complaints_df.date_received.head(num_complaints).max().strftime(\"%m/%d/%Y\")\n",
    "first_date = complaints_df.date_received.head(num_complaints).min().strftime(\"%m/%d/%Y\")\n",
    "\n",
    "missing_vals = alt.Chart(\n",
    "    complaints_df.head(num_complaints).isna().reset_index().melt(\n",
    "        id_vars='index'\n",
    "    ),\n",
    "    title = f\"Missing Values of {num_complaints} Complaints: {first_date} - {last_date}\"\n",
    ").mark_rect().encode(\n",
    "    alt.X('index:O', axis=None),\n",
    "    alt.Y('variable', title=None),\n",
    "    alt.Color('value', title='Missing Value',scale=alt.Scale(scheme='dark2')),\n",
    "    alt.Stroke('value', scale=alt.Scale(scheme='dark2'))  # We set the stroke which is the outline of each rectangle in the heatmap\n",
    ").properties(\n",
    "    width=min(1000, complaints_df.head(num_complaints).shape[0])\n",
    ");\n",
    "display(missing_vals)"
   ]
  },
  {
   "cell_type": "markdown",
   "metadata": {},
   "source": [
    "## Insights\n",
    "- from July 2022 to November no consumers were recorded as disputing a claim, potentially because they haven't been processed yet?\n",
    "- what about older claims?"
   ]
  },
  {
   "cell_type": "code",
   "execution_count": null,
   "metadata": {},
   "outputs": [],
   "source": [
    "na_val_df = complaints_df.tail(num_complaints).isna().reset_index().melt(\n",
    "        id_vars='index'\n",
    "    )\n",
    "last_date = complaints_df.date_received.tail(num_complaints).max().strftime(\"%m/%d/%Y\")\n",
    "first_date = complaints_df.date_received.tail(num_complaints).min().strftime(\"%m/%d/%Y\")\n",
    "\n",
    "missing_vals = alt.Chart(\n",
    "    complaints_df.tail(num_complaints).isna().reset_index().melt(\n",
    "        id_vars='index'\n",
    "    ),\n",
    "    title = f\"Missing Values of {num_complaints} Complaints: {first_date} - {last_date}\"\n",
    ").mark_rect().encode(\n",
    "    alt.X('index:O', axis=None),\n",
    "    alt.Y('variable', title=None),\n",
    "    alt.Color('value', title='Missing Value',scale=alt.Scale(scheme='dark2')),\n",
    "    alt.Stroke('value', scale=alt.Scale(scheme='dark2'))  # We set the stroke which is the outline of each rectangle in the heatmap\n",
    ").properties(\n",
    "    width=min(1000, complaints_df.tail(num_complaints).shape[0])\n",
    ");\n",
    "display(missing_vals)"
   ]
  },
  {
   "cell_type": "markdown",
   "metadata": {},
   "source": [
    "## Insights - "
   ]
  },
  {
   "cell_type": "markdown",
   "metadata": {},
   "source": [
    "# Distribution of Categorical Variables"
   ]
  },
  {
   "cell_type": "code",
   "execution_count": null,
   "metadata": {},
   "outputs": [],
   "source": [
    "complaints_df.columns"
   ]
  },
  {
   "cell_type": "code",
   "execution_count": null,
   "metadata": {},
   "outputs": [],
   "source": [
    "max_bars = 10\n",
    "\n",
    "columns = [\"product\", \"sub_product\", \"issue\", \"sub_issue\",\n",
    "            \"company_public_response\", \"company\", \"state\", \"consumer_consent_provided\",\n",
    "            \"timely_response\", \"consumer_disputed\"]\n",
    "\n",
    "for col in columns:\n",
    "\n",
    "    counts = complaints_df.groupby(col, dropna=False).size().reset_index(name='counts')\n",
    "    count_bar = alt.Chart(\n",
    "        counts,\n",
    "        title = f\"Most Common {col} Reported\"\n",
    "    ).mark_bar().encode(\n",
    "        x='counts',\n",
    "        y=alt.Y(col, type = \"nominal\", sort = \"x\"),\n",
    "    ).transform_window(\n",
    "        rank='rank(counts)',\n",
    "        sort=[alt.SortField('counts', order='descending')]\n",
    "    ).transform_filter(\n",
    "        (alt.datum.rank <= max_bars)\n",
    "    ).properties(\n",
    "        width = 600\n",
    "    )\n",
    "    display(count_bar)\n",
    "    \n"
   ]
  },
  {
   "cell_type": "markdown",
   "metadata": {},
   "source": [
    "## Complaints Over Time"
   ]
  },
  {
   "cell_type": "code",
   "execution_count": null,
   "metadata": {},
   "outputs": [],
   "source": [
    "num_complaints = complaints_df.resample(\"M\", on=\"date_received\").agg({'date_received': 'size'}).rename(columns={\"date_received\":\"num_complaints\"}).reset_index()\n",
    "\n",
    "alt.Chart(\n",
    "    num_complaints,\n",
    "    title = \"Monthly Complaints are Spiking in 2022\"\n",
    ").mark_line().encode(\n",
    "\tx = alt.X('date_received:T', title=\"Date Complaints Received\"),\n",
    "\ty = alt.Y(\"num_complaints:Q\", title = \"No. of Monthly Complaints\") \n",
    ").properties(\n",
    "    width = 800,\n",
    "    height = 400\n",
    ")"
   ]
  },
  {
   "cell_type": "markdown",
   "metadata": {},
   "source": [
    "## Complaints by Product"
   ]
  },
  {
   "cell_type": "code",
   "execution_count": null,
   "metadata": {},
   "outputs": [],
   "source": [
    "proc_complaints_df = complaints_df.copy(deep=True)\n",
    "proc_complaints_df[\"year_month\"] = proc_complaints_df.date_received.apply(lambda dt: dt.replace(day=1))"
   ]
  },
  {
   "cell_type": "code",
   "execution_count": null,
   "metadata": {},
   "outputs": [],
   "source": [
    "alt.Chart(\n",
    "    proc_complaints_df.groupby(['year_month', \"product\"], as_index=False).agg(\n",
    "        num_complaints = (\"product\", \"size\")\n",
    "    ),\n",
    "    title = \"Credit Reporting & Credit Repairs Service Complaints are Majority of Complaints\"\n",
    ").mark_line().encode(\n",
    "\tx = alt.X('year_month:T', title=\"Date Complaints Received\"),\n",
    "\ty = alt.Y(\"num_complaints\", title = \"No. of Monthly Complaints\"),\n",
    "    color = \"product\",\n",
    "    tooltip=\"product\"\n",
    ").properties(\n",
    "    width = 800,\n",
    "    height = 400\n",
    ").interactive()"
   ]
  },
  {
   "cell_type": "code",
   "execution_count": null,
   "metadata": {},
   "outputs": [],
   "source": [
    "most_complaint_types = (\n",
    "    proc_complaints_df.groupby([\"product\"], as_index=False)\n",
    "    .agg(num_complaints = (\"product\", \"size\"))\n",
    "    .sort_values(by = \"num_complaints\", ascending=False)\n",
    "    .head(6)[\"product\"]\n",
    "    .to_list()\n",
    ")\n",
    "\n",
    "most_complaint_types = list(filter(lambda x: not x.startswith(\"Credit reporting, credit repair\"), most_complaint_types))\n",
    "\n",
    "alt.Chart(\n",
    "    proc_complaints_df.loc[proc_complaints_df[\"product\"].isin(most_complaint_types), :].groupby(['year_month', \"product\"], as_index=False).agg(\n",
    "    num_complaints = (\"product\", \"size\")\n",
    "    ),\n",
    "    title = \"Top 5 Most Common Products (Excluding Credit Reporting & Credit Repair)\"\n",
    ").mark_line().encode(\n",
    "\tx = alt.X('year_month:T', title=\"Date Complaints Received\"),\n",
    "\ty = alt.Y(\"num_complaints\", title = \"No. of Monthly Complaints\"),\n",
    "    color = \"product\",\n",
    "    tooltip=\"product\"\n",
    ").properties(\n",
    "    width = 800,\n",
    "    height = 400\n",
    ").interactive()"
   ]
  },
  {
   "cell_type": "code",
   "execution_count": null,
   "metadata": {},
   "outputs": [],
   "source": [
    "least_complaint_types = (\n",
    "    proc_complaints_df.groupby([\"product\"], as_index=False)\n",
    "    .agg(num_complaints = (\"product\", \"size\"))\n",
    "    .sort_values(by = \"num_complaints\", ascending=True)\n",
    "    .head(5)[\"product\"]\n",
    "    .to_list()\n",
    ")\n",
    "\n",
    "alt.Chart(\n",
    "    proc_complaints_df.loc[proc_complaints_df[\"product\"].isin(least_complaint_types), :].groupby(['year_month', \"product\"], as_index=False).agg(\n",
    "    num_complaints = (\"product\", \"size\")\n",
    "    ),\n",
    "    title = \"Top 5 Least Common Products with Complaints\"\n",
    ").mark_line().encode(\n",
    "\tx = alt.X('year_month:T', title=\"Date Complaints Received\"),\n",
    "\ty = alt.Y(\"num_complaints\", title = \"No. of Monthly Complaints\"),\n",
    "    color = \"product\",\n",
    "    tooltip=\"product\"\n",
    ").properties(\n",
    "    width = 800,\n",
    "    height = 400\n",
    ").interactive()"
   ]
  },
  {
   "cell_type": "markdown",
   "metadata": {},
   "source": [
    "## Complaints by Company"
   ]
  },
  {
   "cell_type": "code",
   "execution_count": null,
   "metadata": {},
   "outputs": [],
   "source": [
    "alt.Chart(\n",
    "    proc_complaints_df.groupby(['year_month', \"company\"], as_index=False).agg(\n",
    "        num_complaints = (\"company\", \"size\")\n",
    "    ),\n",
    "    title = \"Majority of Complaints are from TransUnion, Experian & Equifax\"\n",
    ").mark_line().encode(\n",
    "\tx = alt.X('year_month:T', title=\"Date Complaints Received\"),\n",
    "\ty = alt.Y(\"num_complaints\", title = \"No. of Monthly Complaints\"),\n",
    "    color = \"company\",\n",
    "    tooltip=\"company\"\n",
    ").properties(\n",
    "    width = 800,\n",
    "    height = 400\n",
    ").interactive()"
   ]
  },
  {
   "cell_type": "code",
   "execution_count": null,
   "metadata": {},
   "outputs": [],
   "source": [
    "most_complaint_types = (\n",
    "    proc_complaints_df.groupby([\"company\"], as_index=False)\n",
    "    .agg(num_complaints = (\"company\", \"size\"))\n",
    "    .sort_values(by = \"num_complaints\", ascending=False)\n",
    "    .head(6)[\"company\"]\n",
    "    .to_list()\n",
    ")\n",
    "\n",
    "alt.Chart(\n",
    "    proc_complaints_df.loc[proc_complaints_df[\"company\"].isin(most_complaint_types), :].groupby(['year_month', \"company\"], as_index=False).agg(\n",
    "    num_complaints = (\"company\", \"size\")\n",
    "    ),\n",
    "    title = \"Top 5 Most Common Companys (Excluding Credit Reporting & Credit Repair)\"\n",
    ").mark_line().encode(\n",
    "\tx = alt.X('year_month:T', title=\"Date Complaints Received\"),\n",
    "\ty = alt.Y(\"num_complaints\", title = \"No. of Monthly Complaints\"),\n",
    "    color = \"company\",\n",
    "    tooltip=\"company\"\n",
    ").properties(\n",
    "    width = 800,\n",
    "    height = 400\n",
    ").interactive()"
   ]
  },
  {
   "cell_type": "code",
   "execution_count": null,
   "metadata": {},
   "outputs": [],
   "source": [
    "least_complaint_types = (\n",
    "    proc_complaints_df.groupby([\"company\"], as_index=False)\n",
    "    .agg(num_complaints = (\"company\", \"size\"))\n",
    "    .sort_values(by = \"num_complaints\", ascending=False)\n",
    "    .head(15)[\"company\"]\n",
    "    .iloc[3:11]\n",
    "    .to_list()\n",
    ")\n",
    "\n",
    "alt.Chart(\n",
    "    proc_complaints_df.loc[proc_complaints_df[\"company\"].isin(least_complaint_types), :].groupby(['year_month', \"company\"], as_index=False).agg(\n",
    "    num_complaints = (\"company\", \"size\")\n",
    "    ),\n",
    "    title = \"Next 8 Most Common Companies with Complaints\"\n",
    ").mark_line().encode(\n",
    "\tx = alt.X('year_month:T', title=\"Date Complaints Received\"),\n",
    "\ty = alt.Y(\"num_complaints\", title = \"No. of Monthly Complaints\"),\n",
    "    color = \"company\",\n",
    "    tooltip=\"company\"\n",
    ").properties(\n",
    "    width = 800,\n",
    "    height = 400\n",
    ").interactive()"
   ]
  },
  {
   "cell_type": "markdown",
   "metadata": {},
   "source": [
    "## Top 3 Companies with Most Complaints: Equifax, TransUnion, Experian"
   ]
  },
  {
   "cell_type": "code",
   "execution_count": null,
   "metadata": {},
   "outputs": [],
   "source": [
    "top_companies = [\"EQUIFAX, INC.\", \"TRANSUNION INTERMEDIATE HOLDINGS, INC.\", \"Experian Information Solutions Inc.\"]\n",
    "\n",
    "top_comp_df = proc_complaints_df.loc[proc_complaints_df[\"company\"].isin(top_companies), :]\n"
   ]
  },
  {
   "cell_type": "code",
   "execution_count": null,
   "metadata": {},
   "outputs": [],
   "source": [
    "max_bars = 10\n",
    "\n",
    "columns = [\"product\", \"sub_product\", \"issue\", \"sub_issue\",\n",
    "            \"company_public_response\", \"company\", \"state\", \"consumer_consent_provided\",\n",
    "            \"timely_response\", \"consumer_disputed\"]\n",
    "\n",
    "for col in columns:\n",
    "\n",
    "    counts = top_comp_df.groupby(col, dropna=False).size().reset_index(name='counts')\n",
    "    count_bar = alt.Chart(\n",
    "        counts,\n",
    "        title = f\"Most Common {col} Reported\"\n",
    "    ).mark_bar().encode(\n",
    "        x='counts',\n",
    "        y=alt.Y(col, type = \"nominal\", sort = \"x\"),\n",
    "    ).transform_window(\n",
    "        rank='rank(counts)',\n",
    "        sort=[alt.SortField('counts', order='descending')]\n",
    "    ).transform_filter(\n",
    "        (alt.datum.rank <= max_bars)\n",
    "    ).properties(\n",
    "        width = 600\n",
    "    )\n",
    "    display(count_bar)"
   ]
  },
  {
   "cell_type": "code",
   "execution_count": null,
   "metadata": {},
   "outputs": [],
   "source": [
    "perc_timely = top_comp_df.timely_response.value_counts()[1] / top_comp_df.timely_response.value_counts()[0]\n",
    "print(f\"Top 3 Companies have {(1 - perc_timely)*100:.2f}% Timely Responses since {top_comp_df.date_received.min().year}\")"
   ]
  },
  {
   "cell_type": "code",
   "execution_count": null,
   "metadata": {},
   "outputs": [],
   "source": [
    "print(f\"Top 3 Companies have had {top_comp_df.consumer_disputed.value_counts()[1]:.0f} Complaints disputed by Customers since {top_comp_df.date_received.min().year}\")"
   ]
  },
  {
   "cell_type": "code",
   "execution_count": null,
   "metadata": {},
   "outputs": [],
   "source": []
  }
 ],
 "metadata": {
  "kernelspec": {
   "display_name": "Python 3.9.13 ('dsci531')",
   "language": "python",
   "name": "python3"
  },
  "language_info": {
   "codemirror_mode": {
    "name": "ipython",
    "version": 3
   },
   "file_extension": ".py",
   "mimetype": "text/x-python",
   "name": "python",
   "nbconvert_exporter": "python",
   "pygments_lexer": "ipython3",
   "version": "3.9.13"
  },
  "orig_nbformat": 4,
  "vscode": {
   "interpreter": {
    "hash": "c81cf6c6a7b2561b9e85caff044ebe5df95661049f1130ee7c01d8c4cda317ec"
   }
  }
 },
 "nbformat": 4,
 "nbformat_minor": 2
}
