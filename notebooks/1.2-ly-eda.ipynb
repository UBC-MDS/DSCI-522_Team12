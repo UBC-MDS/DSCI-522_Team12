{
 "cells": [
  {
   "cell_type": "code",
   "execution_count": null,
   "metadata": {},
   "outputs": [],
   "source": [
    "import os\n",
    "from ..src.data.load_preprocess_data import load_raw_complaints_data\n",
    "\n",
    "data_path = os.path.join(os.pardir, \"data\", \"raw\", \"complaints.csv\")\n",
    "\n",
    "complaints_df = load_raw_complaints_data(data_path, num_rows=100_000)"
   ]
  }
 ],
 "metadata": {
  "kernelspec": {
   "display_name": "Python 3.10.6 ('MDS')",
   "language": "python",
   "name": "python3"
  },
  "language_info": {
   "name": "python",
   "version": "3.10.6"
  },
  "orig_nbformat": 4,
  "vscode": {
   "interpreter": {
    "hash": "63efc083453448458060aa2c1f069a7755b55a462b5fce058c1dca82068700dd"
   }
  }
 },
 "nbformat": 4,
 "nbformat_minor": 2
}
