{
 "cells": [
  {
   "cell_type": "code",
   "execution_count": 4,
   "metadata": {},
   "outputs": [],
   "source": [
    "import os\n",
    "import sys\n",
    "\n",
    "import altair as alt\n",
    "import pandas as pd\n",
    "import matplotlib.pyplot as plt\n",
    "from wordcloud import WordCloud, STOPWORDS\n",
    "\n",
    "sys.path.append(os.path.join(os.getcwd(),os.pardir))\n",
    "from src.data.load_preprocess_data import load_raw_complaints_data\n",
    "\n",
    "data_path = os.path.join(os.pardir, \"data\", \"raw\", \"complaints.csv\")\n",
    "if os.path.exists(data_path):\n",
    "    complaints_df = load_raw_complaints_data(data_path)\n",
    "else:\n",
    "    raise FileNotFoundError('Data is not downloaded or not in the correct folder.')"
   ]
  },
  {
   "cell_type": "markdown",
   "metadata": {},
   "source": [
    "## Inspection\n",
    "\n",
    "\n",
    "- We can see that the interested target only has 768443 valid values, under which we want to trim the data frame to have null dispute responses removed.\n",
    "- We can drop non-useful features like `zip_code` and `complaint_id`.\n",
    "- It seems that we can process the `consumer_complaint_narrative` using NLP and other useful features using `OneHotEncoder` (apply binary encoding if necessary) since the unique values of most of the features are not too many."
   ]
  },
  {
   "cell_type": "code",
   "execution_count": null,
   "metadata": {},
   "outputs": [],
   "source": [
    "unique_df = pd.DataFrame()\n",
    "unique_df['columns'] = complaints_df.columns\n",
    "unique_df['valid_count'] = complaints_df.count(axis=0).reset_index()[0]\n",
    "unique_df['unique_count'] = complaints_df.nunique().reset_index()[0]\n",
    "unique_df"
   ]
  },
  {
   "cell_type": "markdown",
   "metadata": {},
   "source": [
    "## Missing Values"
   ]
  },
  {
   "cell_type": "code",
   "execution_count": null,
   "metadata": {},
   "outputs": [],
   "source": [
    "num_complaints = 2000\n",
    "alt.data_transformers.enable('data_server')\n",
    "na_val_df = complaints_df.tail(num_complaints).isna().reset_index().melt(\n",
    "        id_vars='index'\n",
    "    )\n",
    "last_date = complaints_df.date_received.tail(num_complaints).max().strftime(\"%m/%d/%Y\")\n",
    "first_date = complaints_df.date_received.tail(num_complaints).min().strftime(\"%m/%d/%Y\")\n",
    "\n",
    "missing_vals = alt.Chart(\n",
    "    complaints_df.tail(num_complaints).isna().reset_index().melt(\n",
    "        id_vars='index'\n",
    "    ),\n",
    "    title = f\"Missing Values of {num_complaints} Complaints: {first_date} - {last_date}\"\n",
    ").mark_rect().encode(\n",
    "    alt.X('index:O', axis=None),\n",
    "    alt.Y('variable', title=None),\n",
    "    alt.Color('value', title='Missing Value',scale=alt.Scale(scheme='dark2')),\n",
    "    alt.Stroke('value', scale=alt.Scale(scheme='dark2'))  # We set the stroke which is the outline of each rectangle in the heatmap\n",
    ").properties(\n",
    "    width=min(500, complaints_df.tail(num_complaints).shape[0])\n",
    ");\n",
    "display(missing_vals)"
   ]
  },
  {
   "cell_type": "markdown",
   "metadata": {},
   "source": [
    "- From the graph below, we see an imbalanced class, which we should take into account during later training of the model."
   ]
  },
  {
   "cell_type": "code",
   "execution_count": null,
   "metadata": {},
   "outputs": [],
   "source": [
    "complaints_df = complaints_df.query('not consumer_disputed.isnull()')\n",
    "complaints_df.head()\n",
    "target = pd.DataFrame(complaints_df.value_counts('consumer_disputed')).reset_index()\n",
    "target.columns = ['consumer_disputed','count']\n",
    "alt.Chart(\n",
    "    target,\n",
    "    title = \"Majority of Complaints are Not Disputed\"\n",
    ").mark_bar().encode(\n",
    "    y=alt.Y('consumer_disputed:O',title = 'Consumer Disputed'),\n",
    "    x=alt.X('count:Q',title = 'No. of Complaints'),\n",
    "    color=alt.Color('consumer_disputed:O', legend=None),\n",
    ").properties(\n",
    "    width = 600,\n",
    "    height = 300\n",
    ")"
   ]
  },
  {
   "cell_type": "markdown",
   "metadata": {},
   "source": [
    "## Wordcloud of Customer Review\n",
    "\n",
    "Here we show two visualizations of what customers mentioned for their complaints in disputed/non-disputed classes."
   ]
  },
  {
   "cell_type": "code",
   "execution_count": null,
   "metadata": {},
   "outputs": [],
   "source": [
    "stopwords = set(STOPWORDS)\n",
    "disputed_words = str(complaints_df['issue'].loc[complaints_df['consumer_disputed'] == 'Yes'])\n",
    "undisputed_words = str(complaints_df['issue'].loc[complaints_df['consumer_disputed'] == 'No'])\n",
    "print(\"\\033[1mComparing the Most common words in issues between disputed and undisputed consumers:\\033[0m\")\n",
    "\n",
    "plt.title(\"Most common Issue words for Disputed Consumers:\")\n",
    "wordcloud = WordCloud(background_color=\"white\", collocations=False, colormap='plasma', max_words=100).generate(disputed_words)\n",
    "plt.imshow(wordcloud, interpolation='bilinear')\n",
    "plt.axis(\"off\")\n",
    "plt.show()\n",
    "\n",
    "plt.title(\"Most common Issue words for undisputed Consumers:\")\n",
    "wordcloud = WordCloud(background_color=\"white\", collocations=False, colormap='plasma', max_words=100).generate(undisputed_words)\n",
    "plt.imshow(wordcloud, interpolation='bilinear')\n",
    "plt.axis(\"off\")\n",
    "plt.show()"
   ]
  },
  {
   "cell_type": "markdown",
   "metadata": {},
   "source": [
    "## Insights\n",
    "\n",
    "- from July 2022 to November no consumers were recorded as disputing a claim, potentially because they haven't been processed yet?\n",
    "- what about older claims?"
   ]
  },
  {
   "cell_type": "code",
   "execution_count": null,
   "metadata": {},
   "outputs": [],
   "source": [
    "complaints_df = load_raw_complaints_data(data_path)\n",
    "num_complaints = complaints_df.resample(\"M\", on=\"date_received\").agg({'date_received': 'size'}).rename(columns={\"date_received\":\"num_complaints\"}).reset_index()\n",
    "\n",
    "alt.Chart(\n",
    "    num_complaints,\n",
    "    title = \"Monthly Complaints are Spiking in 2022\"\n",
    ").mark_line().encode(\n",
    "\tx = alt.X('date_received:T', title=\"Date Complaints Received\"),\n",
    "\ty = alt.Y(\"num_complaints:Q\", title = \"No. of Monthly Complaints\") \n",
    ").properties(\n",
    "    width = 700,\n",
    "    height = 400\n",
    ")"
   ]
  },
  {
   "cell_type": "markdown",
   "metadata": {},
   "source": [
    "## Complaints by Product"
   ]
  },
  {
   "cell_type": "code",
   "execution_count": null,
   "metadata": {},
   "outputs": [],
   "source": [
    "proc_complaints_df = complaints_df.copy(deep=True)\n",
    "proc_complaints_df[\"year_month\"] = proc_complaints_df.date_received.apply(lambda dt: dt.replace(day=1))\n",
    "alt.Chart(\n",
    "    proc_complaints_df.groupby(['year_month', \"product\"], as_index=False).agg(\n",
    "        num_complaints = (\"product\", \"size\")\n",
    "    ),\n",
    "    title = \"Credit Reporting & Credit Repairs Service Complaints Make Up the Majority of Complaints\"\n",
    ").mark_line().encode(\n",
    "\tx = alt.X('year_month:T', title=\"Date Complaints Received\"),\n",
    "\ty = alt.Y(\"num_complaints\", title = \"No. of Monthly Complaints\"),\n",
    "    color = \"product\",\n",
    "    tooltip=\"product\"\n",
    ").properties(\n",
    "    width = 600,\n",
    "    height = 400\n",
    ").interactive()"
   ]
  },
  {
   "cell_type": "code",
   "execution_count": null,
   "metadata": {},
   "outputs": [],
   "source": [
    "most_complaint_types = (\n",
    "    proc_complaints_df.groupby([\"product\"], as_index=False)\n",
    "    .agg(num_complaints = (\"product\", \"size\"))\n",
    "    .sort_values(by = \"num_complaints\", ascending=False)\n",
    "    .head(6)[\"product\"]\n",
    "    .to_list()\n",
    ")\n",
    "\n",
    "most_complaint_types = list(filter(lambda x: not x.startswith(\"Credit reporting, credit repair\"), most_complaint_types))\n",
    "\n",
    "alt.Chart(\n",
    "    proc_complaints_df.loc[proc_complaints_df[\"product\"].isin(most_complaint_types), :].groupby(['year_month', \"product\"], as_index=False).agg(\n",
    "    num_complaints = (\"product\", \"size\")\n",
    "    ),\n",
    "    title = \"Top 5 Most Common Products (Excluding Credit Reporting & Credit Repair)\"\n",
    ").mark_line().encode(\n",
    "\tx = alt.X('year_month:T', title=\"Date Complaints Received\"),\n",
    "\ty = alt.Y(\"num_complaints\", title = \"No. of Monthly Complaints\"),\n",
    "    color = \"product\",\n",
    "    tooltip=\"product\"\n",
    ").properties(\n",
    "    width = 600,\n",
    "    height = 400\n",
    ").interactive()"
   ]
  },
  {
   "cell_type": "code",
   "execution_count": null,
   "metadata": {},
   "outputs": [],
   "source": [
    "least_complaint_types = (\n",
    "    proc_complaints_df.groupby([\"product\"], as_index=False)\n",
    "    .agg(num_complaints = (\"product\", \"size\"))\n",
    "    .sort_values(by = \"num_complaints\", ascending=True)\n",
    "    .head(5)[\"product\"]\n",
    "    .to_list()\n",
    ")\n",
    "\n",
    "alt.Chart(\n",
    "    proc_complaints_df.loc[proc_complaints_df[\"product\"].isin(least_complaint_types), :].groupby(['year_month', \"product\"], as_index=False).agg(\n",
    "    num_complaints = (\"product\", \"size\")\n",
    "    ),\n",
    "    title = \"Top 5 Least Common Products with Complaints\"\n",
    ").mark_line().encode(\n",
    "\tx = alt.X('year_month:T', title=\"Date Complaints Received\"),\n",
    "\ty = alt.Y(\"num_complaints\", title = \"No. of Monthly Complaints\"),\n",
    "    color = \"product\",\n",
    "    tooltip=\"product\"\n",
    ").properties(\n",
    "    width = 600,\n",
    "    height = 400\n",
    ").interactive()"
   ]
  },
  {
   "cell_type": "markdown",
   "metadata": {},
   "source": [
    "# Complaints by Company"
   ]
  },
  {
   "cell_type": "code",
   "execution_count": null,
   "metadata": {},
   "outputs": [],
   "source": [
    "alt.Chart(\n",
    "    proc_complaints_df.groupby(['year_month', \"company\"], as_index=False).agg(\n",
    "        num_complaints = (\"company\", \"size\")\n",
    "    ),\n",
    "    title = \"Majority of Complaints are from TransUnion, Experian & Equifax\"\n",
    ").mark_line().encode(\n",
    "\tx = alt.X('year_month:T', title=\"Date Complaints Received\"),\n",
    "\ty = alt.Y(\"num_complaints\", title = \"No. of Monthly Complaints\"),\n",
    "    color = \"company\",\n",
    "    tooltip=\"company\"\n",
    ").properties(\n",
    "    width = 800,\n",
    "    height = 400\n",
    ").interactive()"
   ]
  },
  {
   "cell_type": "markdown",
   "metadata": {},
   "source": [
    "Insight: looks like majority of compalints come from 3 companies\n",
    "\n",
    "## Top 6 Companies by Number of Complaints"
   ]
  },
  {
   "cell_type": "code",
   "execution_count": null,
   "metadata": {},
   "outputs": [],
   "source": [
    "most_complaint_types = (\n",
    "    proc_complaints_df.groupby([\"company\"], as_index=False)\n",
    "    .agg(num_complaints = (\"company\", \"size\"))\n",
    "    .sort_values(by = \"num_complaints\", ascending=False)\n",
    "    .head(6)[\"company\"]\n",
    "    .to_list()\n",
    ")\n",
    "\n",
    "alt.Chart(\n",
    "    proc_complaints_df.loc[proc_complaints_df[\"company\"].isin(most_complaint_types), :].groupby(['year_month', \"company\"], as_index=False).agg(\n",
    "    num_complaints = (\"company\", \"size\")\n",
    "    ),\n",
    "    title = \"Top 5 Most Common Companys\"\n",
    ").mark_line().encode(\n",
    "\tx = alt.X('year_month:T', title=\"Date Complaints Received\"),\n",
    "\ty = alt.Y(\"num_complaints\", title = \"No. of Monthly Complaints\"),\n",
    "    color = \"company\",\n",
    "    tooltip=\"company\"\n",
    ").properties(\n",
    "    width = 800,\n",
    "    height = 400\n",
    ").interactive()"
   ]
  },
  {
   "cell_type": "markdown",
   "metadata": {},
   "source": [
    "Insight: Top 3 Companies with Most Complaints: Equifax, TransUnion, Experian"
   ]
  }
 ],
 "metadata": {
  "kernelspec": {
   "display_name": "Python 3.10.6 ('522')",
   "language": "python",
   "name": "python3"
  },
  "language_info": {
   "codemirror_mode": {
    "name": "ipython",
    "version": 3
   },
   "file_extension": ".py",
   "mimetype": "text/x-python",
   "name": "python",
   "nbconvert_exporter": "python",
   "pygments_lexer": "ipython3",
   "version": "3.10.6"
  },
  "orig_nbformat": 4,
  "vscode": {
   "interpreter": {
    "hash": "b640b193a9fcb8b9959ed80dbee3259030acd0834e7451640a8ebd7d5ede4010"
   }
  }
 },
 "nbformat": 4,
 "nbformat_minor": 2
}
