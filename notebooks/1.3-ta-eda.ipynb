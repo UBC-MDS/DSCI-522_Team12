{
 "cells": [
  {
   "cell_type": "code",
   "execution_count": null,
   "metadata": {},
   "outputs": [],
   "source": [
    "import os\n",
    "import sys\n",
    "\n",
    "import pandas as pd\n",
    "import altair as alt\n",
    "\n",
    "alt.data_transformers.enable('data_server')\n",
    "alt.renderers.enable('mimetype')"
   ]
  },
  {
   "cell_type": "code",
   "execution_count": null,
   "metadata": {},
   "outputs": [],
   "source": [
    "data_path = os.path.join(os.pardir, \"data\", \"raw\", \"complaints.csv\")\n",
    "\n",
    "complaints_df = pd.read_csv(data_path, parse_dates=True)"
   ]
  },
  {
   "cell_type": "code",
   "execution_count": null,
   "metadata": {},
   "outputs": [],
   "source": [
    "complaints_df.columns[[9,16]]"
   ]
  },
  {
   "cell_type": "code",
   "execution_count": null,
   "metadata": {},
   "outputs": [],
   "source": [
    "complaints_df.head()"
   ]
  },
  {
   "cell_type": "code",
   "execution_count": null,
   "metadata": {},
   "outputs": [],
   "source": [
    "complaints_df.info()"
   ]
  },
  {
   "cell_type": "code",
   "execution_count": null,
   "metadata": {},
   "outputs": [],
   "source": [
    "complaints_df.describe()"
   ]
  },
  {
   "cell_type": "markdown",
   "metadata": {},
   "source": [
    "# Missing Values"
   ]
  },
  {
   "cell_type": "code",
   "execution_count": null,
   "metadata": {},
   "outputs": [],
   "source": [
    "complaints_df[:10].style.highlight_null()"
   ]
  },
  {
   "cell_type": "code",
   "execution_count": null,
   "metadata": {},
   "outputs": [],
   "source": [
    "num_complaints = 2000\n",
    "missing_vals = alt.Chart(\n",
    "    complaints_df.head(num_complaints).isna().reset_index().melt(\n",
    "        id_vars='index'\n",
    "    ),\n",
    "    title = f\"Missing Values of Most Recent {num_complaints} Complaints\"\n",
    ").mark_rect().encode(\n",
    "    alt.X('index:O', axis=None),\n",
    "    alt.Y('variable', title=None),\n",
    "    alt.Color('value', title='Missing Value'),\n",
    "    alt.Stroke('value')  # We set the stroke which is the outline of each rectangle in the heatmap\n",
    ").properties(\n",
    "    width=min(1000, complaints_df.head(num_complaints).shape[0])\n",
    ");\n",
    "display(missing_vals)"
   ]
  },
  {
   "cell_type": "markdown",
   "metadata": {},
   "source": [
    "# Distribution of Categorical Variables"
   ]
  },
  {
   "cell_type": "code",
   "execution_count": null,
   "metadata": {},
   "outputs": [],
   "source": [
    "col = \"Issue\"\n",
    "num_bars = 10\n",
    "\n",
    "for col in complaints_df.drop([\"Complaint ID\", \"Consumer complaint narrative\", \"Date received\"], axis = 1).columns:\n",
    "\n",
    "    counts = complaints_df.head(num_complaints).groupby(col).size().reset_index(name='counts')\n",
    "    count_bar = alt.Chart(\n",
    "        counts,\n",
    "        title = f\"{num_bars} Most Common {col} Reported\"\n",
    "    ).mark_bar().encode(\n",
    "        x='counts',\n",
    "        y=alt.Y(col, type = \"nominal\", sort = \"x\"),\n",
    "    ).transform_window(\n",
    "        rank='rank(counts)',\n",
    "        sort=[alt.SortField('counts', order='descending')]\n",
    "    ).transform_filter(\n",
    "        (alt.datum.rank <= num_bars)\n",
    "    )\n",
    "    display(count_bar)\n",
    "    \n"
   ]
  },
  {
   "cell_type": "code",
   "execution_count": null,
   "metadata": {},
   "outputs": [],
   "source": [
    "complaints_df[\"Consumer disputed?\"].head(10)"
   ]
  },
  {
   "cell_type": "code",
   "execution_count": null,
   "metadata": {},
   "outputs": [],
   "source": []
  }
 ],
 "metadata": {
  "kernelspec": {
   "display_name": "Python 3.9.13 ('dsci531')",
   "language": "python",
   "name": "python3"
  },
  "language_info": {
   "codemirror_mode": {
    "name": "ipython",
    "version": 3
   },
   "file_extension": ".py",
   "mimetype": "text/x-python",
   "name": "python",
   "nbconvert_exporter": "python",
   "pygments_lexer": "ipython3",
   "version": "3.9.13"
  },
  "orig_nbformat": 4,
  "vscode": {
   "interpreter": {
    "hash": "c81cf6c6a7b2561b9e85caff044ebe5df95661049f1130ee7c01d8c4cda317ec"
   }
  }
 },
 "nbformat": 4,
 "nbformat_minor": 2
}
